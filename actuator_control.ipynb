{
 "cells": [
  {
   "cell_type": "code",
   "execution_count": 7,
   "id": "59acc269",
   "metadata": {},
   "outputs": [
    {
     "data": {
      "application/vnd.jupyter.widget-view+json": {
       "model_id": "c8bb6f7e46764f718f9713425ac28638",
       "version_major": 2,
       "version_minor": 0
      },
      "text/plain": [
       "interactive(children=(FloatSlider(value=0.0, description='Panel Angle (°)', max=90.0, step=1.0), Output()), _d…"
      ]
     },
     "metadata": {},
     "output_type": "display_data"
    }
   ],
   "source": [
    "import numpy as np\n",
    "import matplotlib.pyplot as plt\n",
    "from ipywidgets import interact, FloatSlider\n",
    "\n",
    "# Define constants\n",
    "l_panel = 1.0   # panel length (hinge to bottom)\n",
    "l_arm = 0.3     # actuator attachment point from hinge\n",
    "B = np.array([0, -0.7])  # actuator base mount on wall (x, y)\n",
    "\n",
    "def compute_geometry(theta_deg):\n",
    "    A = np.array([0.1, 0.0])  # hinge at origin\n",
    "    theta_rad = np.radians(theta_deg)\n",
    "    \n",
    "    # Panel direction vector\n",
    "    dir_vec = np.array([np.sin(theta_rad), -np.cos(theta_rad)])\n",
    "    \n",
    "    # Actuator mount on panel (point C)\n",
    "    C = A + l_arm * dir_vec\n",
    "    \n",
    "    # Panel bottom point for drawing\n",
    "    panel_bottom = A + l_panel * dir_vec\n",
    "    \n",
    "    return A, B, C, panel_bottom\n",
    "\n",
    "def plot_mechanism(theta_deg):\n",
    "    A, B_, C, panel_bottom = compute_geometry(theta_deg)\n",
    "    \n",
    "    fig, ax = plt.subplots(figsize=(6, 6))\n",
    "    \n",
    "    # Plot wall\n",
    "    ax.plot([0, 0], [-1.5, 0.5], 'k--', label=\"Wall\")\n",
    "    \n",
    "    # Plot panel\n",
    "    ax.plot([A[0], panel_bottom[0]], [A[1], panel_bottom[1]], 'b-', linewidth=4, label=\"Panel\")\n",
    "    \n",
    "    # Plot actuator\n",
    "    ax.plot([B_[0], C[0]], [B_[1], C[1]], 'r-', linewidth=3, label=\"Actuator\")\n",
    "    \n",
    "    # Mount points\n",
    "    ax.plot(*A, 'ko', label='Hinge (A)')\n",
    "    ax.plot(*B_, 'ro', label='Base (B)')\n",
    "    ax.plot(*C, 'bo', label='Arm Mount (C)')\n",
    "    \n",
    "    # Labels\n",
    "    ax.text(A[0], A[1]+0.05, 'A (Hinge)', fontsize=9)\n",
    "    ax.text(B_[0]-0.4, B_[1], 'B (Wall Mount)', fontsize=9)\n",
    "    ax.text(C[0]+0.05, C[1], 'C (Panel Mount)', fontsize=9)\n",
    "    \n",
    "    # Actuator length\n",
    "    actuator_length = np.linalg.norm(C - B_)\n",
    "    ax.set_title(f\"Panel Angle: {theta_deg:.1f}°, Actuator Length: {actuator_length:.2f} m\")\n",
    "    \n",
    "    ax.set_aspect('equal')\n",
    "    ax.set_xlim(-0.5, 1.5)\n",
    "    ax.set_ylim(-1.5, 0.5)\n",
    "    ax.grid(True)\n",
    "    ax.legend()\n",
    "    plt.show()\n",
    "\n",
    "# Create interactive slider\n",
    "interact(plot_mechanism, theta_deg=FloatSlider(min=0, max=90, step=1, value=0, description=\"Panel Angle (°)\"));\n"
   ]
  }
 ],
 "metadata": {
  "kernelspec": {
   "display_name": ".venv",
   "language": "python",
   "name": "python3"
  },
  "language_info": {
   "codemirror_mode": {
    "name": "ipython",
    "version": 3
   },
   "file_extension": ".py",
   "mimetype": "text/x-python",
   "name": "python",
   "nbconvert_exporter": "python",
   "pygments_lexer": "ipython3",
   "version": "3.12.4"
  }
 },
 "nbformat": 4,
 "nbformat_minor": 5
}
