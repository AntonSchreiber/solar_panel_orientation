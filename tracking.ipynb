{
 "cells": [
  {
   "cell_type": "markdown",
   "id": "8a013a12",
   "metadata": {},
   "source": [
    "# **Panel Tracking**\n",
    "orients the panels towards the sun as much as possible in order to maximize the cross section presented towards incoming beam irradiance."
   ]
  },
  {
   "cell_type": "code",
   "execution_count": 10,
   "id": "a059e701",
   "metadata": {},
   "outputs": [
    {
     "data": {
      "application/vnd.microsoft.datawrangler.viewer.v0+json": {
       "columns": [
        {
         "name": "index",
         "rawType": "datetime64[ns, Europe/Berlin]",
         "type": "unknown"
        },
        {
         "name": "apparent_zenith",
         "rawType": "float64",
         "type": "float"
        },
        {
         "name": "zenith",
         "rawType": "float64",
         "type": "float"
        },
        {
         "name": "apparent_elevation",
         "rawType": "float64",
         "type": "float"
        },
        {
         "name": "elevation",
         "rawType": "float64",
         "type": "float"
        },
        {
         "name": "azimuth",
         "rawType": "float64",
         "type": "float"
        },
        {
         "name": "equation_of_time",
         "rawType": "float64",
         "type": "float"
        }
       ],
       "ref": "c309035c-586f-4068-b826-475c33c09861",
       "rows": [
        [
         "2025-06-21 00:00:00+02:00",
         "103.18329606641541",
         "103.18329606641541",
         "-13.18329606641541",
         "-13.18329606641541",
         "341.4836499107304",
         "-1.7263409777151537"
        ],
        [
         "2025-06-21 00:05:00+02:00",
         "103.42345654415375",
         "103.42345654415375",
         "-13.423456544153748",
         "-13.423456544153748",
         "342.63581028195205",
         "-1.727102034696145"
        ],
        [
         "2025-06-21 00:10:00+02:00",
         "103.64862494058437",
         "103.64862494058437",
         "-13.648624940584376",
         "-13.648624940584376",
         "343.7922824448864",
         "-1.7278630902073928"
        ],
        [
         "2025-06-21 00:15:00+02:00",
         "103.85865494327749",
         "103.85865494327749",
         "-13.858654943277479",
         "-13.858654943277479",
         "344.95283352385854",
         "-1.7286241444162442"
        ],
        [
         "2025-06-21 00:20:00+02:00",
         "104.05340849450631",
         "104.05340849450631",
         "-14.053408494506309",
         "-14.053408494506309",
         "346.1172184606212",
         "-1.729385197191732"
        ],
        [
         "2025-06-21 00:25:00+02:00",
         "104.23275639691515",
         "104.23275639691515",
         "-14.232756396915152",
         "-14.232756396915152",
         "347.28518180635353",
         "-1.730146248555684"
        ],
        [
         "2025-06-21 00:30:00+02:00",
         "104.39657846802119",
         "104.39657846802119",
         "-14.396578468021188",
         "-14.396578468021188",
         "348.45645707785013",
         "-1.7309072984353406"
        ],
        [
         "2025-06-21 00:35:00+02:00",
         "104.54476405773423",
         "104.54476405773423",
         "-14.544764057734222",
         "-14.544764057734222",
         "349.63076851512915",
         "-1.7316683468889096"
        ],
        [
         "2025-06-21 00:40:00+02:00",
         "104.67721228897224",
         "104.67721228897224",
         "-14.677212288972246",
         "-14.677212288972246",
         "350.8078313301013",
         "-1.732429393901839"
        ],
        [
         "2025-06-21 00:45:00+02:00",
         "104.79383231199847",
         "104.79383231199847",
         "-14.793832311998466",
         "-14.793832311998466",
         "351.9873519994676",
         "-1.7331904393358855"
        ],
        [
         "2025-06-21 00:50:00+02:00",
         "104.8945436955283",
         "104.8945436955283",
         "-14.894543695528302",
         "-14.894543695528302",
         "353.1690301871705",
         "-1.733951483380224"
        ],
        [
         "2025-06-21 00:55:00+02:00",
         "104.97927654560738",
         "104.97927654560738",
         "-14.979276545607371",
         "-14.979276545607371",
         "354.35255833972235",
         "-1.7347125258093001"
        ],
        [
         "2025-06-21 01:00:00+02:00",
         "105.04797182767456",
         "105.04797182767456",
         "-15.047971827674553",
         "-15.047971827674553",
         "355.537623854239",
         "-1.7354735667540808"
        ],
        [
         "2025-06-21 01:05:00+02:00",
         "105.1005814582297",
         "105.1005814582297",
         "-15.10058145822969",
         "-15.10058145822969",
         "356.7239087437847",
         "-1.7362346060472191"
        ],
        [
         "2025-06-21 01:10:00+02:00",
         "105.13706852817222",
         "105.13706852817222",
         "-15.13706852817222",
         "-15.13706852817222",
         "357.9110918730041",
         "-1.736995643856062"
        ],
        [
         "2025-06-21 01:15:00+02:00",
         "105.15740736201329",
         "105.15740736201329",
         "-15.15740736201328",
         "-15.15740736201328",
         "359.0988486733678",
         "-1.7377566799841588"
        ],
        [
         "2025-06-21 01:20:00+02:00",
         "105.16158363825328",
         "105.16158363825328",
         "-15.16158363825328",
         "-15.16158363825328",
         "0.28685326276558953",
         "-1.7385177144751651"
        ],
        [
         "2025-06-21 01:25:00+02:00",
         "105.14959441013195",
         "105.14959441013195",
         "-15.14959441013195",
         "-15.14959441013195",
         "1.4747789846551314",
         "-1.7392787474163924"
        ],
        [
         "2025-06-21 01:30:00+02:00",
         "105.12144812948593",
         "105.12144812948593",
         "-15.121448129485932",
         "-15.121448129485932",
         "2.6622989518650684",
         "-1.7400397786186659"
        ],
        [
         "2025-06-21 01:35:00+02:00",
         "105.07716460346002",
         "105.07716460346002",
         "-15.077164603460021",
         "-15.077164603460021",
         "3.849088179946989",
         "-1.7408008082056767"
        ],
        [
         "2025-06-21 01:40:00+02:00",
         "105.01677496221141",
         "105.01677496221141",
         "-15.016774962211416",
         "-15.016774962211416",
         "5.034823327826643",
         "-1.7415618360391818"
        ],
        [
         "2025-06-21 01:45:00+02:00",
         "104.94032151375966",
         "104.94032151375966",
         "-14.940321513759654",
         "-14.940321513759654",
         "6.219184966889543",
         "-1.7423228622574243"
        ],
        [
         "2025-06-21 01:50:00+02:00",
         "104.84785767653793",
         "104.84785767653793",
         "-14.847857676537922",
         "-14.847857676537922",
         "7.401857286613847",
         "-1.7430838866421254"
        ],
        [
         "2025-06-21 01:55:00+02:00",
         "104.73944773168508",
         "104.73944773168508",
         "-14.739447731685072",
         "-14.739447731685072",
         "8.582530315953136",
         "-1.7438449093533563"
        ],
        [
         "2025-06-21 02:00:00+02:00",
         "104.61516672425637",
         "104.61516672425637",
         "-14.615166724256365",
         "-14.615166724256365",
         "9.760899573505526",
         "-1.7446059302455978"
        ],
        [
         "2025-06-21 02:05:00+02:00",
         "104.47510013807018",
         "104.47510013807018",
         "-14.475100138070173",
         "-14.475100138070173",
         "10.936668058451346",
         "-1.7453669492751942"
        ],
        [
         "2025-06-21 02:10:00+02:00",
         "104.31934367203527",
         "104.31934367203527",
         "-14.319343672035275",
         "-14.319343672035275",
         "12.10954661373529",
         "-1.7461279666677"
        ],
        [
         "2025-06-21 02:15:00+02:00",
         "104.14800302738294",
         "104.14800302738294",
         "-14.148003027382945",
         "-14.148003027382945",
         "13.279254249545488",
         "-1.7468889821320772"
        ],
        [
         "2025-06-21 02:20:00+02:00",
         "103.96119344614631",
         "103.96119344614631",
         "-13.961193446146309",
         "-13.961193446146309",
         "14.445519987155762",
         "-1.7476499958283966"
        ],
        [
         "2025-06-21 02:25:00+02:00",
         "103.75903956191024",
         "103.75903956191024",
         "-13.759039561910248",
         "-13.759039561910248",
         "15.60808229479403",
         "-1.7484110076038633"
        ],
        [
         "2025-06-21 02:30:00+02:00",
         "103.54167484578628",
         "103.54167484578628",
         "-13.541674845786272",
         "-13.541674845786272",
         "16.766690973897255",
         "-1.7491720175312366"
        ],
        [
         "2025-06-21 02:35:00+02:00",
         "103.30924145132197",
         "103.30924145132197",
         "-13.309241451321972",
         "-13.309241451321972",
         "17.921106489162526",
         "-1.7499330255159293"
        ],
        [
         "2025-06-21 02:40:00+02:00",
         "103.06188959362974",
         "103.06188959362974",
         "-13.061889593629742",
         "-13.061889593629742",
         "19.07110172972699",
         "-1.7506940316598048"
        ],
        [
         "2025-06-21 02:45:00+02:00",
         "102.79977739762066",
         "102.79977739762066",
         "-12.799777397620662",
         "-12.799777397620662",
         "20.21646122878201",
         "-1.751455035780964"
        ],
        [
         "2025-06-21 02:50:00+02:00",
         "102.52307025885565",
         "102.52307025885565",
         "-12.523070258855647",
         "-12.523070258855647",
         "21.356982642565754",
         "-1.7522160379376146"
        ],
        [
         "2025-06-21 02:55:00+02:00",
         "102.23194051394924",
         "102.23194051394924",
         "-12.23194051394924",
         "-12.23194051394924",
         "22.492476622492063",
         "-1.75297703823162"
        ],
        [
         "2025-06-21 03:00:00+02:00",
         "101.92656714020745",
         "101.92656714020745",
         "-11.926567140207448",
         "-11.926567140207448",
         "23.622766639768088",
         "-1.7537380364374258"
        ],
        [
         "2025-06-21 03:05:00+02:00",
         "101.6071350476496",
         "101.6071350476496",
         "-11.607135047649603",
         "-11.607135047649603",
         "24.747690270112116",
         "-1.7544990327733103"
        ],
        [
         "2025-06-21 03:10:00+02:00",
         "101.27383497527326",
         "101.27383497527326",
         "-11.273834975273259",
         "-11.273834975273259",
         "25.86709814537278",
         "-1.7552600269336835"
        ],
        [
         "2025-06-21 03:15:00+02:00",
         "100.92686271807803",
         "100.92686271807803",
         "-10.926862718078024",
         "-10.926862718078024",
         "26.98085527021351",
         "-1.7560210191441001"
        ],
        [
         "2025-06-21 03:20:00+02:00",
         "100.56641905705932",
         "100.56641905705932",
         "-10.566419057059315",
         "-10.566419057059315",
         "28.088839879291527",
         "-1.7567820092008333"
        ],
        [
         "2025-06-21 03:25:00+02:00",
         "100.19270896443648",
         "100.19270896443648",
         "-10.19270896443648",
         "-10.19270896443648",
         "29.190944641184558",
         "-1.7575429973076098"
        ],
        [
         "2025-06-21 03:30:00+02:00",
         "99.8059415741678",
         "99.8059415741678",
         "-9.805941574167807",
         "-9.805941574167807",
         "30.287075432978554",
         "-1.758303983217047"
        ],
        [
         "2025-06-21 03:35:00+02:00",
         "99.40632942853269",
         "99.40632942853269",
         "-9.406329428532686",
         "-9.406329428532686",
         "31.37715229531159",
         "-1.759064966958249"
        ],
        [
         "2025-06-21 03:40:00+02:00",
         "98.99408822214912",
         "98.99408822214912",
         "-8.994088222149124",
         "-8.994088222149124",
         "32.46110886818815",
         "-1.7598259487131145"
        ],
        [
         "2025-06-21 03:45:00+02:00",
         "98.56943658962427",
         "98.56943658962427",
         "-8.569436589624276",
         "-8.569436589624276",
         "33.538891801364855",
         "-1.7605869281760533"
        ],
        [
         "2025-06-21 03:50:00+02:00",
         "98.13259534021486",
         "98.13259534021486",
         "-8.132595340214863",
         "-8.132595340214863",
         "34.610461582163225",
         "-1.7613479055653443"
        ],
        [
         "2025-06-21 03:55:00+02:00",
         "97.68378755276935",
         "97.68378755276935",
         "-7.683787552769349",
         "-7.683787552769349",
         "35.675791162105725",
         "-1.7621088806845364"
        ],
        [
         "2025-06-21 04:00:00+02:00",
         "97.22323776108571",
         "97.22323776108571",
         "-7.223237761085718",
         "-7.223237761085718",
         "36.73486686422132",
         "-1.762869853664597"
        ],
        [
         "2025-06-21 04:05:00+02:00",
         "96.75117210448433",
         "96.75117210448433",
         "-6.751172104484329",
         "-6.751172104484329",
         "37.787686975742986",
         "-1.7636308243236272"
        ]
       ],
       "shape": {
        "columns": 6,
        "rows": 289
       }
      },
      "text/html": [
       "<div>\n",
       "<style scoped>\n",
       "    .dataframe tbody tr th:only-of-type {\n",
       "        vertical-align: middle;\n",
       "    }\n",
       "\n",
       "    .dataframe tbody tr th {\n",
       "        vertical-align: top;\n",
       "    }\n",
       "\n",
       "    .dataframe thead th {\n",
       "        text-align: right;\n",
       "    }\n",
       "</style>\n",
       "<table border=\"1\" class=\"dataframe\">\n",
       "  <thead>\n",
       "    <tr style=\"text-align: right;\">\n",
       "      <th></th>\n",
       "      <th>apparent_zenith</th>\n",
       "      <th>zenith</th>\n",
       "      <th>apparent_elevation</th>\n",
       "      <th>elevation</th>\n",
       "      <th>azimuth</th>\n",
       "      <th>equation_of_time</th>\n",
       "    </tr>\n",
       "  </thead>\n",
       "  <tbody>\n",
       "    <tr>\n",
       "      <th>2025-06-21 00:00:00+02:00</th>\n",
       "      <td>103.183296</td>\n",
       "      <td>103.183296</td>\n",
       "      <td>-13.183296</td>\n",
       "      <td>-13.183296</td>\n",
       "      <td>341.483650</td>\n",
       "      <td>-1.726341</td>\n",
       "    </tr>\n",
       "    <tr>\n",
       "      <th>2025-06-21 00:05:00+02:00</th>\n",
       "      <td>103.423457</td>\n",
       "      <td>103.423457</td>\n",
       "      <td>-13.423457</td>\n",
       "      <td>-13.423457</td>\n",
       "      <td>342.635810</td>\n",
       "      <td>-1.727102</td>\n",
       "    </tr>\n",
       "    <tr>\n",
       "      <th>2025-06-21 00:10:00+02:00</th>\n",
       "      <td>103.648625</td>\n",
       "      <td>103.648625</td>\n",
       "      <td>-13.648625</td>\n",
       "      <td>-13.648625</td>\n",
       "      <td>343.792282</td>\n",
       "      <td>-1.727863</td>\n",
       "    </tr>\n",
       "    <tr>\n",
       "      <th>2025-06-21 00:15:00+02:00</th>\n",
       "      <td>103.858655</td>\n",
       "      <td>103.858655</td>\n",
       "      <td>-13.858655</td>\n",
       "      <td>-13.858655</td>\n",
       "      <td>344.952834</td>\n",
       "      <td>-1.728624</td>\n",
       "    </tr>\n",
       "    <tr>\n",
       "      <th>2025-06-21 00:20:00+02:00</th>\n",
       "      <td>104.053408</td>\n",
       "      <td>104.053408</td>\n",
       "      <td>-14.053408</td>\n",
       "      <td>-14.053408</td>\n",
       "      <td>346.117218</td>\n",
       "      <td>-1.729385</td>\n",
       "    </tr>\n",
       "    <tr>\n",
       "      <th>...</th>\n",
       "      <td>...</td>\n",
       "      <td>...</td>\n",
       "      <td>...</td>\n",
       "      <td>...</td>\n",
       "      <td>...</td>\n",
       "      <td>...</td>\n",
       "    </tr>\n",
       "    <tr>\n",
       "      <th>2025-06-21 23:40:00+02:00</th>\n",
       "      <td>102.064444</td>\n",
       "      <td>102.064444</td>\n",
       "      <td>-12.064444</td>\n",
       "      <td>-12.064444</td>\n",
       "      <td>336.872299</td>\n",
       "      <td>-1.942356</td>\n",
       "    </tr>\n",
       "    <tr>\n",
       "      <th>2025-06-21 23:45:00+02:00</th>\n",
       "      <td>102.363610</td>\n",
       "      <td>102.363610</td>\n",
       "      <td>-12.363610</td>\n",
       "      <td>-12.363610</td>\n",
       "      <td>338.004917</td>\n",
       "      <td>-1.943116</td>\n",
       "    </tr>\n",
       "    <tr>\n",
       "      <th>2025-06-21 23:50:00+02:00</th>\n",
       "      <td>102.648452</td>\n",
       "      <td>102.648452</td>\n",
       "      <td>-12.648452</td>\n",
       "      <td>-12.648452</td>\n",
       "      <td>339.142664</td>\n",
       "      <td>-1.943876</td>\n",
       "    </tr>\n",
       "    <tr>\n",
       "      <th>2025-06-21 23:55:00+02:00</th>\n",
       "      <td>102.918795</td>\n",
       "      <td>102.918795</td>\n",
       "      <td>-12.918795</td>\n",
       "      <td>-12.918795</td>\n",
       "      <td>340.285358</td>\n",
       "      <td>-1.944636</td>\n",
       "    </tr>\n",
       "    <tr>\n",
       "      <th>2025-06-22 00:00:00+02:00</th>\n",
       "      <td>103.174469</td>\n",
       "      <td>103.174469</td>\n",
       "      <td>-13.174469</td>\n",
       "      <td>-13.174469</td>\n",
       "      <td>341.432803</td>\n",
       "      <td>-1.945396</td>\n",
       "    </tr>\n",
       "  </tbody>\n",
       "</table>\n",
       "<p>289 rows × 6 columns</p>\n",
       "</div>"
      ],
      "text/plain": [
       "                           apparent_zenith      zenith  apparent_elevation  \\\n",
       "2025-06-21 00:00:00+02:00       103.183296  103.183296          -13.183296   \n",
       "2025-06-21 00:05:00+02:00       103.423457  103.423457          -13.423457   \n",
       "2025-06-21 00:10:00+02:00       103.648625  103.648625          -13.648625   \n",
       "2025-06-21 00:15:00+02:00       103.858655  103.858655          -13.858655   \n",
       "2025-06-21 00:20:00+02:00       104.053408  104.053408          -14.053408   \n",
       "...                                    ...         ...                 ...   \n",
       "2025-06-21 23:40:00+02:00       102.064444  102.064444          -12.064444   \n",
       "2025-06-21 23:45:00+02:00       102.363610  102.363610          -12.363610   \n",
       "2025-06-21 23:50:00+02:00       102.648452  102.648452          -12.648452   \n",
       "2025-06-21 23:55:00+02:00       102.918795  102.918795          -12.918795   \n",
       "2025-06-22 00:00:00+02:00       103.174469  103.174469          -13.174469   \n",
       "\n",
       "                           elevation     azimuth  equation_of_time  \n",
       "2025-06-21 00:00:00+02:00 -13.183296  341.483650         -1.726341  \n",
       "2025-06-21 00:05:00+02:00 -13.423457  342.635810         -1.727102  \n",
       "2025-06-21 00:10:00+02:00 -13.648625  343.792282         -1.727863  \n",
       "2025-06-21 00:15:00+02:00 -13.858655  344.952834         -1.728624  \n",
       "2025-06-21 00:20:00+02:00 -14.053408  346.117218         -1.729385  \n",
       "...                              ...         ...               ...  \n",
       "2025-06-21 23:40:00+02:00 -12.064444  336.872299         -1.942356  \n",
       "2025-06-21 23:45:00+02:00 -12.363610  338.004917         -1.943116  \n",
       "2025-06-21 23:50:00+02:00 -12.648452  339.142664         -1.943876  \n",
       "2025-06-21 23:55:00+02:00 -12.918795  340.285358         -1.944636  \n",
       "2025-06-22 00:00:00+02:00 -13.174469  341.432803         -1.945396  \n",
       "\n",
       "[289 rows x 6 columns]"
      ]
     },
     "execution_count": 10,
     "metadata": {},
     "output_type": "execute_result"
    }
   ],
   "source": [
    "from pvlib import solarposition, tracking\n",
    "import pandas as pd\n",
    "import matplotlib.pyplot as plt\n",
    "\n",
    "tz = 'Europe/Berlin'\n",
    "lat, lon = 51.401944, 10.737222\n",
    "\n",
    "times = pd.date_range('2025-06-21', '2025-06-22', freq='5min',\n",
    "                      tz=tz)\n",
    "solpos = solarposition.get_solarposition(times, lat, lon)\n",
    "solpos"
   ]
  },
  {
   "cell_type": "code",
   "execution_count": 11,
   "id": "ebea4309",
   "metadata": {},
   "outputs": [
    {
     "data": {
      "image/png": "[encoded data removed]",
      "text/plain": [
       "<Figure size 640x480 with 1 Axes>"
      ]
     },
     "metadata": {},
     "output_type": "display_data"
    }
   ],
   "source": [
    "truetracking_angles = tracking.singleaxis(\n",
    "    apparent_zenith=solpos['apparent_zenith'],\n",
    "    apparent_azimuth=solpos['azimuth'],\n",
    "    axis_tilt=0,\n",
    "    axis_azimuth=180,\n",
    "    max_angle=90,\n",
    "    backtrack=False,  # for true-tracking\n",
    "    gcr=0.5)  # irrelevant for true-tracking\n",
    "\n",
    "truetracking_position = truetracking_angles['tracker_theta'].fillna(0)\n",
    "truetracking_position.plot(title='Truetracking Curve')\n",
    "\n",
    "plt.show()"
   ]
  },
  {
   "cell_type": "markdown",
   "id": "ac15cd09",
   "metadata": {},
   "source": [
    "y-axis is elevation\n",
    "also possible in dicontinuous manner:\n",
    "https://pvlib-python.readthedocs.io/en/stable/gallery/solar-tracking/plot_discontinuous_tracking.html"
   ]
  }
 ],
 "metadata": {
  "kernelspec": {
   "display_name": ".venv",
   "language": "python",
   "name": "python3"
  },
  "language_info": {
   "codemirror_mode": {
    "name": "ipython",
    "version": 3
   },
   "file_extension": ".py",
   "mimetype": "text/x-python",
   "name": "python",
   "nbconvert_exporter": "python",
   "pygments_lexer": "ipython3",
   "version": "3.12.4"
  }
 },
 "nbformat": 4,
 "nbformat_minor": 5
}
